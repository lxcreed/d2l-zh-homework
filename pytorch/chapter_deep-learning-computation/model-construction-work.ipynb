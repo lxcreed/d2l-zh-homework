{
 "cells": [
  {
   "cell_type": "code",
   "execution_count": 11,
   "id": "initial_id",
   "metadata": {
    "collapsed": true,
    "ExecuteTime": {
     "end_time": "2023-09-22T10:56:21.264521400Z",
     "start_time": "2023-09-22T10:56:21.238453Z"
    }
   },
   "outputs": [
    {
     "data": {
      "text/plain": "torch.Size([2, 10])"
     },
     "execution_count": 11,
     "metadata": {},
     "output_type": "execute_result"
    }
   ],
   "source": [
    "import torch\n",
    "from torch import nn\n",
    "from torch.nn import functional as F\n",
    "\n",
    "n = nn.Sequential(nn.Linear(20, 256), nn.ReLU(), nn.Linear(256, 10))\n",
    "\n",
    "X = torch.rand(2, 20)\n",
    "n(X).shape"
   ]
  },
  {
   "cell_type": "code",
   "execution_count": 14,
   "outputs": [],
   "source": [
    "class MLP(nn.Module):\n",
    "    def __init__(self):\n",
    "        super().__init__()\n",
    "        self.hidden = nn.Linear(20, 256)\n",
    "        self.out = nn.Linear(256, 10)\n",
    "\n",
    "    def forward(self, X):\n",
    "        return self.out(F.relu(self.hidden(X)))\n"
   ],
   "metadata": {
    "collapsed": false,
    "ExecuteTime": {
     "end_time": "2023-09-22T10:57:12.608088100Z",
     "start_time": "2023-09-22T10:57:12.596002700Z"
    }
   },
   "id": "ddd863cabd82a607"
  },
  {
   "cell_type": "code",
   "execution_count": 15,
   "outputs": [
    {
     "data": {
      "text/plain": "tensor([[-0.1346, -0.1589,  0.1344,  0.0257,  0.1351, -0.1732, -0.2400,  0.0982,\n          0.2821, -0.0277],\n        [-0.2426, -0.3856,  0.1191,  0.1110,  0.0142, -0.1053, -0.1040,  0.0655,\n          0.3362,  0.0314]], grad_fn=<AddmmBackward0>)"
     },
     "execution_count": 15,
     "metadata": {},
     "output_type": "execute_result"
    }
   ],
   "source": [
    "net = MLP()\n",
    "net(X)"
   ],
   "metadata": {
    "collapsed": false,
    "ExecuteTime": {
     "end_time": "2023-09-22T10:57:14.314331300Z",
     "start_time": "2023-09-22T10:57:14.307331700Z"
    }
   },
   "id": "844b9e39bd24da38"
  },
  {
   "cell_type": "code",
   "execution_count": 16,
   "outputs": [],
   "source": [
    "class MySequential(nn.Module):\n",
    "    def __init__(self, *args):\n",
    "        super().__init__()\n",
    "        for idx, module in enumerate(args):\n",
    "            self._modules[str(idx)] = module\n",
    "\n",
    "    def forward(self, X):\n",
    "        for block in self._modules.values():\n",
    "            X = block(X)\n",
    "        return X"
   ],
   "metadata": {
    "collapsed": false,
    "ExecuteTime": {
     "end_time": "2023-09-22T11:01:08.818875100Z",
     "start_time": "2023-09-22T11:01:08.802304500Z"
    }
   },
   "id": "900f1bb1ae2d4d45"
  },
  {
   "cell_type": "code",
   "execution_count": 17,
   "outputs": [
    {
     "data": {
      "text/plain": "tensor([[ 0.0980, -0.0961,  0.0090,  0.1422, -0.1203,  0.1569,  0.1576,  0.0303,\n          0.1336,  0.1072],\n        [ 0.0237, -0.1297,  0.0591,  0.1246, -0.0465,  0.0779,  0.1560,  0.0486,\n          0.1235,  0.0049]], grad_fn=<AddmmBackward0>)"
     },
     "execution_count": 17,
     "metadata": {},
     "output_type": "execute_result"
    }
   ],
   "source": [
    "net = MySequential(nn.Linear(20, 256), nn.ReLU(), nn.Linear(256, 10))\n",
    "net(X)"
   ],
   "metadata": {
    "collapsed": false,
    "ExecuteTime": {
     "end_time": "2023-09-22T11:02:22.774026Z",
     "start_time": "2023-09-22T11:02:22.726429200Z"
    }
   },
   "id": "340cab46fdcf3849"
  },
  {
   "cell_type": "code",
   "execution_count": 20,
   "outputs": [],
   "source": [
    "class FixedHiddenMLP(nn.Module):\n",
    "    def __init__(self):\n",
    "        super().__init__()\n",
    "        self.rand_weight = torch.rand((20, 20), requires_grad=False)\n",
    "        self.liner = nn.Linear(20, 20)\n",
    "\n",
    "    def forward(self, X):\n",
    "        X = self.liner(X)\n",
    "        X = F.relu(torch.mm(X, self.rand_weight) + 1.)\n",
    "        X = self.liner(X)\n",
    "        while X.abs().sum() > 1.:\n",
    "            X /= 2.\n",
    "        return X.sum()"
   ],
   "metadata": {
    "collapsed": false,
    "ExecuteTime": {
     "end_time": "2023-09-22T11:09:02.052301Z",
     "start_time": "2023-09-22T11:09:02.036670700Z"
    }
   },
   "id": "fbbb8305b9251d7e"
  },
  {
   "cell_type": "code",
   "execution_count": 29,
   "outputs": [
    {
     "data": {
      "text/plain": "tensor(0.4424, grad_fn=<SumBackward0>)"
     },
     "execution_count": 29,
     "metadata": {},
     "output_type": "execute_result"
    }
   ],
   "source": [
    "net = FixedHiddenMLP()\n",
    "net(X)"
   ],
   "metadata": {
    "collapsed": false,
    "ExecuteTime": {
     "end_time": "2023-09-22T11:09:11.735338500Z",
     "start_time": "2023-09-22T11:09:11.704146500Z"
    }
   },
   "id": "89e0173bdc977a08"
  },
  {
   "cell_type": "code",
   "execution_count": 30,
   "outputs": [],
   "source": [
    "class NestMLP(nn.Module):\n",
    "    def __init__(self):\n",
    "        super().__init__()\n",
    "        self.net = nn.Sequential(nn.Linear(20, 64), nn.ReLU(),\n",
    "                                 nn.Linear(64, 32), nn.ReLU())\n",
    "        self.liner = nn.Linear(32, 16)\n",
    "\n",
    "    def forward(self, X):\n",
    "        return self.liner(self.net(X))"
   ],
   "metadata": {
    "collapsed": false,
    "ExecuteTime": {
     "end_time": "2023-09-22T11:11:45.988085600Z",
     "start_time": "2023-09-22T11:11:45.972464700Z"
    }
   },
   "id": "933e49206435206"
  },
  {
   "cell_type": "code",
   "execution_count": 35,
   "outputs": [
    {
     "data": {
      "text/plain": "tensor(0.3546, grad_fn=<SumBackward0>)"
     },
     "execution_count": 35,
     "metadata": {},
     "output_type": "execute_result"
    }
   ],
   "source": [
    "chimera = nn.Sequential(NestMLP(), nn.Linear(16, 20), FixedHiddenMLP())\n",
    "chimera(X)"
   ],
   "metadata": {
    "collapsed": false,
    "ExecuteTime": {
     "end_time": "2023-09-22T11:12:52.804534900Z",
     "start_time": "2023-09-22T11:12:52.788913Z"
    }
   },
   "id": "85e1ba43ad61029d"
  }
 ],
 "metadata": {
  "kernelspec": {
   "display_name": "Python 3",
   "language": "python",
   "name": "python3"
  },
  "language_info": {
   "codemirror_mode": {
    "name": "ipython",
    "version": 2
   },
   "file_extension": ".py",
   "mimetype": "text/x-python",
   "name": "python",
   "nbconvert_exporter": "python",
   "pygments_lexer": "ipython2",
   "version": "2.7.6"
  }
 },
 "nbformat": 4,
 "nbformat_minor": 5
}
