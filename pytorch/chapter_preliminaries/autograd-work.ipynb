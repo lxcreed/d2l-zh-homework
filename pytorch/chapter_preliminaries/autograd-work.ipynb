{
 "cells": [
  {
   "cell_type": "code",
   "execution_count": 1,
   "metadata": {
    "collapsed": true,
    "ExecuteTime": {
     "end_time": "2023-07-25T19:35:55.432079700Z",
     "start_time": "2023-07-25T19:35:54.208685900Z"
    }
   },
   "outputs": [],
   "source": [
    "import torch"
   ]
  },
  {
   "cell_type": "code",
   "execution_count": 2,
   "outputs": [
    {
     "data": {
      "text/plain": "(tensor([0., 1., 2., 3.], requires_grad=True), None)"
     },
     "execution_count": 2,
     "metadata": {},
     "output_type": "execute_result"
    }
   ],
   "source": [
    "x = torch.arange(4.0)\n",
    "x.requires_grad_(True)\n",
    "x, x.grad"
   ],
   "metadata": {
    "collapsed": false,
    "ExecuteTime": {
     "end_time": "2023-07-25T19:35:55.447984300Z",
     "start_time": "2023-07-25T19:35:55.436234500Z"
    }
   }
  },
  {
   "cell_type": "code",
   "execution_count": 3,
   "outputs": [
    {
     "data": {
      "text/plain": "tensor(28., grad_fn=<MulBackward0>)"
     },
     "execution_count": 3,
     "metadata": {},
     "output_type": "execute_result"
    }
   ],
   "source": [
    "y = 2 * torch.dot(x, x)\n",
    "y"
   ],
   "metadata": {
    "collapsed": false,
    "ExecuteTime": {
     "end_time": "2023-07-25T19:35:55.492205500Z",
     "start_time": "2023-07-25T19:35:55.448986100Z"
    }
   }
  },
  {
   "cell_type": "code",
   "execution_count": 4,
   "outputs": [
    {
     "data": {
      "text/plain": "tensor([ 0.,  4.,  8., 12.])"
     },
     "execution_count": 4,
     "metadata": {},
     "output_type": "execute_result"
    }
   ],
   "source": [
    "y.backward()\n",
    "x.grad"
   ],
   "metadata": {
    "collapsed": false,
    "ExecuteTime": {
     "end_time": "2023-07-25T19:35:55.499896100Z",
     "start_time": "2023-07-25T19:35:55.464067400Z"
    }
   }
  },
  {
   "cell_type": "code",
   "execution_count": 5,
   "outputs": [
    {
     "data": {
      "text/plain": "tensor([True, True, True, True])"
     },
     "execution_count": 5,
     "metadata": {},
     "output_type": "execute_result"
    }
   ],
   "source": [
    "x.grad == 4 * x"
   ],
   "metadata": {
    "collapsed": false,
    "ExecuteTime": {
     "end_time": "2023-07-25T19:35:55.509611600Z",
     "start_time": "2023-07-25T19:35:55.494353800Z"
    }
   }
  },
  {
   "cell_type": "code",
   "execution_count": 6,
   "outputs": [
    {
     "data": {
      "text/plain": "tensor([0., 2., 4., 6.])"
     },
     "execution_count": 6,
     "metadata": {},
     "output_type": "execute_result"
    }
   ],
   "source": [
    "x.grad.zero_()\n",
    "y = x * x\n",
    "y.sum().backward()\n",
    "x.grad"
   ],
   "metadata": {
    "collapsed": false,
    "ExecuteTime": {
     "end_time": "2023-07-25T19:35:55.569925300Z",
     "start_time": "2023-07-25T19:35:55.511623500Z"
    }
   }
  },
  {
   "cell_type": "code",
   "execution_count": 7,
   "outputs": [
    {
     "data": {
      "text/plain": "tensor([True, True, True, True])"
     },
     "execution_count": 7,
     "metadata": {},
     "output_type": "execute_result"
    }
   ],
   "source": [
    "x.grad.zero_()\n",
    "y = x * x\n",
    "u = y.detach()\n",
    "z = u * x\n",
    "z.sum().backward()\n",
    "x.grad == u"
   ],
   "metadata": {
    "collapsed": false,
    "ExecuteTime": {
     "end_time": "2023-07-25T19:35:55.574917Z",
     "start_time": "2023-07-25T19:35:55.526255300Z"
    }
   }
  },
  {
   "cell_type": "code",
   "execution_count": 8,
   "outputs": [
    {
     "data": {
      "text/plain": "(tensor([0., 2., 4., 6.]),\n tensor([0., 2., 4., 6.], grad_fn=<MulBackward0>),\n tensor([True, True, True, True]))"
     },
     "execution_count": 8,
     "metadata": {},
     "output_type": "execute_result"
    }
   ],
   "source": [
    "x.grad.zero_()\n",
    "y.sum().backward(retain_graph=True)\n",
    "x.grad, 2 * x, x.grad == 2 * x"
   ],
   "metadata": {
    "collapsed": false,
    "ExecuteTime": {
     "end_time": "2023-07-25T19:35:55.575917300Z",
     "start_time": "2023-07-25T19:35:55.543328600Z"
    }
   }
  },
  {
   "cell_type": "code",
   "execution_count": 9,
   "outputs": [
    {
     "data": {
      "text/plain": "(tensor([-1.1881, -0.3814,  0.2528, -1.8074], requires_grad=True),\n tensor([-60830.1445, -19527.9102,  12944.1973, -92539.1719],\n        grad_fn=<MulBackward0>),\n tensor([51200., 51200., 51200., 51200.]),\n tensor([51200., 51200., 51200., 51200.], grad_fn=<DivBackward0>),\n tensor([True, True, True, True]))"
     },
     "execution_count": 9,
     "metadata": {},
     "output_type": "execute_result"
    }
   ],
   "source": [
    "def f(a):\n",
    "    b = a * 2\n",
    "    while b.norm() < 1000:\n",
    "        b = b * 2\n",
    "    if b.sum() > 0:\n",
    "        c = b\n",
    "    else:\n",
    "        c = 100 * b\n",
    "    return c\n",
    "\n",
    "\n",
    "a = torch.randn(size=([4]), requires_grad=True)\n",
    "d = f(a)\n",
    "d.backward(torch.tensor([1, 1, 1, 1]))\n",
    "\n",
    "a, d, a.grad, d / a, a.grad == d / a"
   ],
   "metadata": {
    "collapsed": false,
    "ExecuteTime": {
     "end_time": "2023-07-25T19:35:55.575917300Z",
     "start_time": "2023-07-25T19:35:55.559383100Z"
    }
   }
  },
  {
   "cell_type": "code",
   "execution_count": 10,
   "outputs": [
    {
     "data": {
      "text/plain": "<Figure size 350x250 with 1 Axes>",
      "image/svg+xml": "<?xml version=\"1.0\" encoding=\"utf-8\" standalone=\"no\"?>\n<!DOCTYPE svg PUBLIC \"-//W3C//DTD SVG 1.1//EN\"\n  \"http://www.w3.org/Graphics/SVG/1.1/DTD/svg11.dtd\">\n<svg xmlns:xlink=\"http://www.w3.org/1999/xlink\" width=\"254.660938pt\" height=\"183.35625pt\" viewBox=\"0 0 254.660938 183.35625\" xmlns=\"http://www.w3.org/2000/svg\" version=\"1.1\">\n <metadata>\n  <rdf:RDF xmlns:dc=\"http://purl.org/dc/elements/1.1/\" xmlns:cc=\"http://creativecommons.org/ns#\" xmlns:rdf=\"http://www.w3.org/1999/02/22-rdf-syntax-ns#\">\n   <cc:Work>\n    <dc:type rdf:resource=\"http://purl.org/dc/dcmitype/StillImage\"/>\n    <dc:date>2023-07-26T03:35:56.638732</dc:date>\n    <dc:format>image/svg+xml</dc:format>\n    <dc:creator>\n     <cc:Agent>\n      <dc:title>Matplotlib v3.5.1, https://matplotlib.org/</dc:title>\n     </cc:Agent>\n    </dc:creator>\n   </cc:Work>\n  </rdf:RDF>\n </metadata>\n <defs>\n  <style type=\"text/css\">*{stroke-linejoin: round; stroke-linecap: butt}</style>\n </defs>\n <g id=\"figure_1\">\n  <g id=\"patch_1\">\n   <path d=\"M 0 183.35625 \nL 254.660938 183.35625 \nL 254.660938 0 \nL 0 0 \nz\n\" style=\"fill: #ffffff\"/>\n  </g>\n  <g id=\"axes_1\">\n   <g id=\"patch_2\">\n    <path d=\"M 52.160938 145.8 \nL 247.460938 145.8 \nL 247.460938 7.2 \nL 52.160938 7.2 \nz\n\" style=\"fill: #ffffff\"/>\n   </g>\n   <g id=\"matplotlib.axis_1\">\n    <g id=\"xtick_1\">\n     <g id=\"line2d_1\">\n      <path d=\"M 79.264108 145.8 \nL 79.264108 7.2 \n\" clip-path=\"url(#pad3785e30c)\" style=\"fill: none; stroke: #b0b0b0; stroke-width: 0.8; stroke-linecap: square\"/>\n     </g>\n     <g id=\"line2d_2\">\n      <defs>\n       <path id=\"m5595ce054e\" d=\"M 0 0 \nL 0 3.5 \n\" style=\"stroke: #000000; stroke-width: 0.8\"/>\n      </defs>\n      <g>\n       <use xlink:href=\"#m5595ce054e\" x=\"79.264108\" y=\"145.8\" style=\"stroke: #000000; stroke-width: 0.8\"/>\n      </g>\n     </g>\n     <g id=\"text_1\">\n      <!-- −5.0 -->\n      <g transform=\"translate(67.122701 160.398438)scale(0.1 -0.1)\">\n       <defs>\n        <path id=\"DejaVuSans-2212\" d=\"M 678 2272 \nL 4684 2272 \nL 4684 1741 \nL 678 1741 \nL 678 2272 \nz\n\" transform=\"scale(0.015625)\"/>\n        <path id=\"DejaVuSans-35\" d=\"M 691 4666 \nL 3169 4666 \nL 3169 4134 \nL 1269 4134 \nL 1269 2991 \nQ 1406 3038 1543 3061 \nQ 1681 3084 1819 3084 \nQ 2600 3084 3056 2656 \nQ 3513 2228 3513 1497 \nQ 3513 744 3044 326 \nQ 2575 -91 1722 -91 \nQ 1428 -91 1123 -41 \nQ 819 9 494 109 \nL 494 744 \nQ 775 591 1075 516 \nQ 1375 441 1709 441 \nQ 2250 441 2565 725 \nQ 2881 1009 2881 1497 \nQ 2881 1984 2565 2268 \nQ 2250 2553 1709 2553 \nQ 1456 2553 1204 2497 \nQ 953 2441 691 2322 \nL 691 4666 \nz\n\" transform=\"scale(0.015625)\"/>\n        <path id=\"DejaVuSans-2e\" d=\"M 684 794 \nL 1344 794 \nL 1344 0 \nL 684 0 \nL 684 794 \nz\n\" transform=\"scale(0.015625)\"/>\n        <path id=\"DejaVuSans-30\" d=\"M 2034 4250 \nQ 1547 4250 1301 3770 \nQ 1056 3291 1056 2328 \nQ 1056 1369 1301 889 \nQ 1547 409 2034 409 \nQ 2525 409 2770 889 \nQ 3016 1369 3016 2328 \nQ 3016 3291 2770 3770 \nQ 2525 4250 2034 4250 \nz\nM 2034 4750 \nQ 2819 4750 3233 4129 \nQ 3647 3509 3647 2328 \nQ 3647 1150 3233 529 \nQ 2819 -91 2034 -91 \nQ 1250 -91 836 529 \nQ 422 1150 422 2328 \nQ 422 3509 836 4129 \nQ 1250 4750 2034 4750 \nz\n\" transform=\"scale(0.015625)\"/>\n       </defs>\n       <use xlink:href=\"#DejaVuSans-2212\"/>\n       <use xlink:href=\"#DejaVuSans-35\" x=\"83.789062\"/>\n       <use xlink:href=\"#DejaVuSans-2e\" x=\"147.412109\"/>\n       <use xlink:href=\"#DejaVuSans-30\" x=\"179.199219\"/>\n      </g>\n     </g>\n    </g>\n    <g id=\"xtick_2\">\n     <g id=\"line2d_3\">\n      <path d=\"M 114.773199 145.8 \nL 114.773199 7.2 \n\" clip-path=\"url(#pad3785e30c)\" style=\"fill: none; stroke: #b0b0b0; stroke-width: 0.8; stroke-linecap: square\"/>\n     </g>\n     <g id=\"line2d_4\">\n      <g>\n       <use xlink:href=\"#m5595ce054e\" x=\"114.773199\" y=\"145.8\" style=\"stroke: #000000; stroke-width: 0.8\"/>\n      </g>\n     </g>\n     <g id=\"text_2\">\n      <!-- −2.5 -->\n      <g transform=\"translate(102.631792 160.398438)scale(0.1 -0.1)\">\n       <defs>\n        <path id=\"DejaVuSans-32\" d=\"M 1228 531 \nL 3431 531 \nL 3431 0 \nL 469 0 \nL 469 531 \nQ 828 903 1448 1529 \nQ 2069 2156 2228 2338 \nQ 2531 2678 2651 2914 \nQ 2772 3150 2772 3378 \nQ 2772 3750 2511 3984 \nQ 2250 4219 1831 4219 \nQ 1534 4219 1204 4116 \nQ 875 4013 500 3803 \nL 500 4441 \nQ 881 4594 1212 4672 \nQ 1544 4750 1819 4750 \nQ 2544 4750 2975 4387 \nQ 3406 4025 3406 3419 \nQ 3406 3131 3298 2873 \nQ 3191 2616 2906 2266 \nQ 2828 2175 2409 1742 \nQ 1991 1309 1228 531 \nz\n\" transform=\"scale(0.015625)\"/>\n       </defs>\n       <use xlink:href=\"#DejaVuSans-2212\"/>\n       <use xlink:href=\"#DejaVuSans-32\" x=\"83.789062\"/>\n       <use xlink:href=\"#DejaVuSans-2e\" x=\"147.412109\"/>\n       <use xlink:href=\"#DejaVuSans-35\" x=\"179.199219\"/>\n      </g>\n     </g>\n    </g>\n    <g id=\"xtick_3\">\n     <g id=\"line2d_5\">\n      <path d=\"M 150.28229 145.8 \nL 150.28229 7.2 \n\" clip-path=\"url(#pad3785e30c)\" style=\"fill: none; stroke: #b0b0b0; stroke-width: 0.8; stroke-linecap: square\"/>\n     </g>\n     <g id=\"line2d_6\">\n      <g>\n       <use xlink:href=\"#m5595ce054e\" x=\"150.28229\" y=\"145.8\" style=\"stroke: #000000; stroke-width: 0.8\"/>\n      </g>\n     </g>\n     <g id=\"text_3\">\n      <!-- 0.0 -->\n      <g transform=\"translate(142.330727 160.398438)scale(0.1 -0.1)\">\n       <use xlink:href=\"#DejaVuSans-30\"/>\n       <use xlink:href=\"#DejaVuSans-2e\" x=\"63.623047\"/>\n       <use xlink:href=\"#DejaVuSans-30\" x=\"95.410156\"/>\n      </g>\n     </g>\n    </g>\n    <g id=\"xtick_4\">\n     <g id=\"line2d_7\">\n      <path d=\"M 185.79138 145.8 \nL 185.79138 7.2 \n\" clip-path=\"url(#pad3785e30c)\" style=\"fill: none; stroke: #b0b0b0; stroke-width: 0.8; stroke-linecap: square\"/>\n     </g>\n     <g id=\"line2d_8\">\n      <g>\n       <use xlink:href=\"#m5595ce054e\" x=\"185.79138\" y=\"145.8\" style=\"stroke: #000000; stroke-width: 0.8\"/>\n      </g>\n     </g>\n     <g id=\"text_4\">\n      <!-- 2.5 -->\n      <g transform=\"translate(177.839818 160.398438)scale(0.1 -0.1)\">\n       <use xlink:href=\"#DejaVuSans-32\"/>\n       <use xlink:href=\"#DejaVuSans-2e\" x=\"63.623047\"/>\n       <use xlink:href=\"#DejaVuSans-35\" x=\"95.410156\"/>\n      </g>\n     </g>\n    </g>\n    <g id=\"xtick_5\">\n     <g id=\"line2d_9\">\n      <path d=\"M 221.300471 145.8 \nL 221.300471 7.2 \n\" clip-path=\"url(#pad3785e30c)\" style=\"fill: none; stroke: #b0b0b0; stroke-width: 0.8; stroke-linecap: square\"/>\n     </g>\n     <g id=\"line2d_10\">\n      <g>\n       <use xlink:href=\"#m5595ce054e\" x=\"221.300471\" y=\"145.8\" style=\"stroke: #000000; stroke-width: 0.8\"/>\n      </g>\n     </g>\n     <g id=\"text_5\">\n      <!-- 5.0 -->\n      <g transform=\"translate(213.348909 160.398438)scale(0.1 -0.1)\">\n       <use xlink:href=\"#DejaVuSans-35\"/>\n       <use xlink:href=\"#DejaVuSans-2e\" x=\"63.623047\"/>\n       <use xlink:href=\"#DejaVuSans-30\" x=\"95.410156\"/>\n      </g>\n     </g>\n    </g>\n    <g id=\"text_6\">\n     <!-- x -->\n     <g transform=\"translate(146.851563 174.076563)scale(0.1 -0.1)\">\n      <defs>\n       <path id=\"DejaVuSans-78\" d=\"M 3513 3500 \nL 2247 1797 \nL 3578 0 \nL 2900 0 \nL 1881 1375 \nL 863 0 \nL 184 0 \nL 1544 1831 \nL 300 3500 \nL 978 3500 \nL 1906 2253 \nL 2834 3500 \nL 3513 3500 \nz\n\" transform=\"scale(0.015625)\"/>\n      </defs>\n      <use xlink:href=\"#DejaVuSans-78\"/>\n     </g>\n    </g>\n   </g>\n   <g id=\"matplotlib.axis_2\">\n    <g id=\"ytick_1\">\n     <g id=\"line2d_11\">\n      <path d=\"M 52.160938 139.500617 \nL 247.460938 139.500617 \n\" clip-path=\"url(#pad3785e30c)\" style=\"fill: none; stroke: #b0b0b0; stroke-width: 0.8; stroke-linecap: square\"/>\n     </g>\n     <g id=\"line2d_12\">\n      <defs>\n       <path id=\"m02131800b1\" d=\"M 0 0 \nL -3.5 0 \n\" style=\"stroke: #000000; stroke-width: 0.8\"/>\n      </defs>\n      <g>\n       <use xlink:href=\"#m02131800b1\" x=\"52.160938\" y=\"139.500617\" style=\"stroke: #000000; stroke-width: 0.8\"/>\n      </g>\n     </g>\n     <g id=\"text_7\">\n      <!-- −1.0 -->\n      <g transform=\"translate(20.878125 143.299836)scale(0.1 -0.1)\">\n       <defs>\n        <path id=\"DejaVuSans-31\" d=\"M 794 531 \nL 1825 531 \nL 1825 4091 \nL 703 3866 \nL 703 4441 \nL 1819 4666 \nL 2450 4666 \nL 2450 531 \nL 3481 531 \nL 3481 0 \nL 794 0 \nL 794 531 \nz\n\" transform=\"scale(0.015625)\"/>\n       </defs>\n       <use xlink:href=\"#DejaVuSans-2212\"/>\n       <use xlink:href=\"#DejaVuSans-31\" x=\"83.789062\"/>\n       <use xlink:href=\"#DejaVuSans-2e\" x=\"147.412109\"/>\n       <use xlink:href=\"#DejaVuSans-30\" x=\"179.199219\"/>\n      </g>\n     </g>\n    </g>\n    <g id=\"ytick_2\">\n     <g id=\"line2d_13\">\n      <path d=\"M 52.160938 108.000463 \nL 247.460938 108.000463 \n\" clip-path=\"url(#pad3785e30c)\" style=\"fill: none; stroke: #b0b0b0; stroke-width: 0.8; stroke-linecap: square\"/>\n     </g>\n     <g id=\"line2d_14\">\n      <g>\n       <use xlink:href=\"#m02131800b1\" x=\"52.160938\" y=\"108.000463\" style=\"stroke: #000000; stroke-width: 0.8\"/>\n      </g>\n     </g>\n     <g id=\"text_8\">\n      <!-- −0.5 -->\n      <g transform=\"translate(20.878125 111.799681)scale(0.1 -0.1)\">\n       <use xlink:href=\"#DejaVuSans-2212\"/>\n       <use xlink:href=\"#DejaVuSans-30\" x=\"83.789062\"/>\n       <use xlink:href=\"#DejaVuSans-2e\" x=\"147.412109\"/>\n       <use xlink:href=\"#DejaVuSans-35\" x=\"179.199219\"/>\n      </g>\n     </g>\n    </g>\n    <g id=\"ytick_3\">\n     <g id=\"line2d_15\">\n      <path d=\"M 52.160938 76.500308 \nL 247.460938 76.500308 \n\" clip-path=\"url(#pad3785e30c)\" style=\"fill: none; stroke: #b0b0b0; stroke-width: 0.8; stroke-linecap: square\"/>\n     </g>\n     <g id=\"line2d_16\">\n      <g>\n       <use xlink:href=\"#m02131800b1\" x=\"52.160938\" y=\"76.500308\" style=\"stroke: #000000; stroke-width: 0.8\"/>\n      </g>\n     </g>\n     <g id=\"text_9\">\n      <!-- 0.0 -->\n      <g transform=\"translate(29.257812 80.299527)scale(0.1 -0.1)\">\n       <use xlink:href=\"#DejaVuSans-30\"/>\n       <use xlink:href=\"#DejaVuSans-2e\" x=\"63.623047\"/>\n       <use xlink:href=\"#DejaVuSans-30\" x=\"95.410156\"/>\n      </g>\n     </g>\n    </g>\n    <g id=\"ytick_4\">\n     <g id=\"line2d_17\">\n      <path d=\"M 52.160938 45.000154 \nL 247.460938 45.000154 \n\" clip-path=\"url(#pad3785e30c)\" style=\"fill: none; stroke: #b0b0b0; stroke-width: 0.8; stroke-linecap: square\"/>\n     </g>\n     <g id=\"line2d_18\">\n      <g>\n       <use xlink:href=\"#m02131800b1\" x=\"52.160938\" y=\"45.000154\" style=\"stroke: #000000; stroke-width: 0.8\"/>\n      </g>\n     </g>\n     <g id=\"text_10\">\n      <!-- 0.5 -->\n      <g transform=\"translate(29.257812 48.799373)scale(0.1 -0.1)\">\n       <use xlink:href=\"#DejaVuSans-30\"/>\n       <use xlink:href=\"#DejaVuSans-2e\" x=\"63.623047\"/>\n       <use xlink:href=\"#DejaVuSans-35\" x=\"95.410156\"/>\n      </g>\n     </g>\n    </g>\n    <g id=\"ytick_5\">\n     <g id=\"line2d_19\">\n      <path d=\"M 52.160938 13.5 \nL 247.460938 13.5 \n\" clip-path=\"url(#pad3785e30c)\" style=\"fill: none; stroke: #b0b0b0; stroke-width: 0.8; stroke-linecap: square\"/>\n     </g>\n     <g id=\"line2d_20\">\n      <g>\n       <use xlink:href=\"#m02131800b1\" x=\"52.160938\" y=\"13.5\" style=\"stroke: #000000; stroke-width: 0.8\"/>\n      </g>\n     </g>\n     <g id=\"text_11\">\n      <!-- 1.0 -->\n      <g transform=\"translate(29.257812 17.299219)scale(0.1 -0.1)\">\n       <use xlink:href=\"#DejaVuSans-31\"/>\n       <use xlink:href=\"#DejaVuSans-2e\" x=\"63.623047\"/>\n       <use xlink:href=\"#DejaVuSans-30\" x=\"95.410156\"/>\n      </g>\n     </g>\n    </g>\n    <g id=\"text_12\">\n     <!-- f(x) -->\n     <g transform=\"translate(14.798438 85.121094)rotate(-90)scale(0.1 -0.1)\">\n      <defs>\n       <path id=\"DejaVuSans-66\" d=\"M 2375 4863 \nL 2375 4384 \nL 1825 4384 \nQ 1516 4384 1395 4259 \nQ 1275 4134 1275 3809 \nL 1275 3500 \nL 2222 3500 \nL 2222 3053 \nL 1275 3053 \nL 1275 0 \nL 697 0 \nL 697 3053 \nL 147 3053 \nL 147 3500 \nL 697 3500 \nL 697 3744 \nQ 697 4328 969 4595 \nQ 1241 4863 1831 4863 \nL 2375 4863 \nz\n\" transform=\"scale(0.015625)\"/>\n       <path id=\"DejaVuSans-28\" d=\"M 1984 4856 \nQ 1566 4138 1362 3434 \nQ 1159 2731 1159 2009 \nQ 1159 1288 1364 580 \nQ 1569 -128 1984 -844 \nL 1484 -844 \nQ 1016 -109 783 600 \nQ 550 1309 550 2009 \nQ 550 2706 781 3412 \nQ 1013 4119 1484 4856 \nL 1984 4856 \nz\n\" transform=\"scale(0.015625)\"/>\n       <path id=\"DejaVuSans-29\" d=\"M 513 4856 \nL 1013 4856 \nQ 1481 4119 1714 3412 \nQ 1947 2706 1947 2009 \nQ 1947 1309 1714 600 \nQ 1481 -109 1013 -844 \nL 513 -844 \nQ 928 -128 1133 580 \nQ 1338 1288 1338 2009 \nQ 1338 2731 1133 3434 \nQ 928 4138 513 4856 \nz\n\" transform=\"scale(0.015625)\"/>\n      </defs>\n      <use xlink:href=\"#DejaVuSans-66\"/>\n      <use xlink:href=\"#DejaVuSans-28\" x=\"35.205078\"/>\n      <use xlink:href=\"#DejaVuSans-78\" x=\"74.21875\"/>\n      <use xlink:href=\"#DejaVuSans-29\" x=\"133.398438\"/>\n     </g>\n    </g>\n   </g>\n   <g id=\"line2d_21\">\n    <path d=\"M 61.03821 76.500308 \nL 62.458574 70.210772 \nL 63.878938 63.984079 \nL 65.299301 57.882444 \nL 66.719665 51.966833 \nL 68.140028 46.296352 \nL 69.560392 40.927658 \nL 70.980756 35.914395 \nL 72.401119 31.306653 \nL 73.821483 27.150472 \nL 75.241847 23.487377 \nL 76.66221 20.35397 \nL 78.082574 17.781559 \nL 79.502938 15.795846 \nL 80.923301 14.416671 \nL 82.343665 13.657817 \nL 83.764028 13.526863 \nL 85.184392 14.02512 \nL 86.604756 15.147607 \nL 88.025119 16.883111 \nL 89.445483 19.21429 \nL 90.865847 22.117852 \nL 92.28621 25.564786 \nL 93.706574 29.52065 \nL 95.126938 33.94592 \nL 96.547301 38.796379 \nL 97.967665 44.023563 \nL 99.388028 49.575244 \nL 100.808392 55.395952 \nL 102.228756 61.427527 \nL 103.649119 67.609704 \nL 105.069483 73.880714 \nL 106.489847 80.177898 \nL 107.91021 86.438336 \nL 109.330574 92.599477 \nL 110.750938 98.59976 \nL 112.171301 104.379233 \nL 113.591665 109.880149 \nL 115.012028 115.047544 \nL 116.432392 119.829789 \nL 117.852756 124.179099 \nL 119.273119 128.052019 \nL 120.693483 131.409851 \nL 122.113847 134.219045 \nL 123.53421 136.451533 \nL 124.954574 138.085007 \nL 126.374938 139.103148 \nL 127.795301 139.495782 \nL 129.215665 139.258986 \nL 130.636028 138.395126 \nL 132.056392 136.912834 \nL 133.476756 134.826919 \nL 134.897119 132.158224 \nL 136.317483 128.933414 \nL 137.737847 125.18471 \nL 139.15821 120.949567 \nL 140.578574 116.270301 \nL 141.998938 111.193668 \nL 143.419301 105.770389 \nL 144.839665 100.054654 \nL 146.260028 94.103571 \nL 147.680392 87.976602 \nL 149.100756 81.734967 \nL 150.521119 75.441028 \nL 151.941483 69.157673 \nL 153.361847 62.947683 \nL 154.78221 56.873106 \nL 156.202574 50.994639 \nL 157.622938 45.371015 \nL 159.043301 40.058425 \nL 160.463665 35.10995 \nL 161.884028 30.575034 \nL 163.304392 26.498988 \nL 164.724756 22.922539 \nL 166.145119 19.881421 \nL 167.565483 17.406021 \nL 168.985847 15.521071 \nL 170.40621 14.245405 \nL 171.826574 13.59177 \nL 173.246938 13.566696 \nL 174.667301 14.170434 \nL 176.087665 15.396951 \nL 177.508028 17.233993 \nL 178.928392 19.663205 \nL 180.348756 22.660314 \nL 181.769119 26.195374 \nL 183.189483 30.233065 \nL 184.609847 34.733042 \nL 186.03021 39.650345 \nL 187.450574 44.93584 \nL 188.870938 50.536717 \nL 190.291301 56.397013 \nL 191.711665 62.458175 \nL 193.132028 68.659641 \nL 194.552392 74.939449 \nL 195.972756 81.234852 \nL 197.393119 87.482949 \nL 198.813483 93.621312 \nL 200.233847 99.588607 \nL 201.65421 105.325211 \nL 203.074574 110.773806 \nL 204.494938 115.879952 \nL 205.915301 120.59263 \nL 207.335665 124.864751 \nL 208.756028 128.653631 \nL 210.176392 131.921413 \nL 211.596756 134.635445 \nL 213.017119 136.76861 \nL 214.437483 138.299594 \nL 215.857847 139.2131 \nL 217.27821 139.5 \nL 218.698574 139.157428 \nL 220.118938 138.188808 \nL 221.539301 136.603816 \nL 222.959665 134.418289 \nL 224.380028 131.654066 \nL 225.800392 128.338764 \nL 227.220756 124.505509 \nL 228.641119 120.192603 \nL 230.061483 115.443137 \nL 231.481847 110.304568 \nL 232.90221 104.828237 \nL 234.322574 99.068864 \nL 235.742938 93.083993 \nL 237.163301 86.933423 \nL 238.583665 80.678608 \n\" clip-path=\"url(#pad3785e30c)\" style=\"fill: none; stroke: #1f77b4; stroke-width: 1.5; stroke-linecap: square\"/>\n   </g>\n   <g id=\"line2d_22\">\n    <path d=\"M 61.03821 13.5 \nL 62.458574 13.814739 \nL 63.878938 14.755812 \nL 65.299301 16.313815 \nL 66.719665 18.473182 \nL 68.140028 21.212336 \nL 69.560392 24.50391 \nL 70.980756 28.315015 \nL 72.401119 32.607571 \nL 73.821483 37.338689 \nL 75.241847 42.461097 \nL 76.66221 47.923613 \nL 78.082574 53.671658 \nL 79.502938 59.6478 \nL 80.923301 65.792326 \nL 82.343665 72.043843 \nL 83.764028 78.339887 \nL 85.184392 84.617551 \nL 86.604756 90.814111 \nL 88.025119 96.867651 \nL 89.445483 102.717688 \nL 90.865847 108.305769 \nL 92.28621 113.57606 \nL 93.706574 118.475903 \nL 95.126938 122.95634 \nL 96.547301 126.972603 \nL 97.967665 130.484564 \nL 99.388028 133.457132 \nL 100.808392 135.860607 \nL 102.228756 137.670972 \nL 103.649119 138.870141 \nL 105.069483 139.446131 \nL 106.489847 139.393187 \nL 107.91021 138.711839 \nL 109.330574 137.408893 \nL 110.750938 135.497369 \nL 112.171301 132.996365 \nL 113.591665 129.930872 \nL 115.012028 126.331518 \nL 116.432392 122.234268 \nL 117.852756 117.680058 \nL 119.273119 112.714394 \nL 120.693483 107.386891 \nL 122.113847 101.75078 \nL 123.53421 95.862374 \nL 124.954574 89.780509 \nL 126.374938 83.565952 \nL 127.795301 77.280798 \nL 129.215665 70.987846 \nL 130.636028 64.749972 \nL 132.056392 58.629503 \nL 133.476756 52.687594 \nL 134.897119 46.983614 \nL 136.317483 41.574554 \nL 137.737847 36.514462 \nL 139.15821 31.853894 \nL 140.578574 27.639419 \nL 141.998938 23.913146 \nL 143.419301 20.712306 \nL 144.839665 18.068881 \nL 146.260028 16.009284 \nL 147.680392 14.554094 \nL 149.100756 13.717849 \nL 150.521119 13.508906 \nL 151.941483 13.929352 \nL 153.361847 14.974987 \nL 154.78221 16.635362 \nL 156.202574 18.893888 \nL 157.622938 21.727998 \nL 159.043301 25.109376 \nL 160.463665 29.004234 \nL 161.884028 33.373657 \nL 163.304392 38.173988 \nL 164.724756 43.357263 \nL 166.145119 48.871692 \nL 167.565483 54.662177 \nL 168.985847 60.670861 \nL 170.40621 66.837708 \nL 171.826574 73.1011 \nL 173.246938 79.398457 \nL 174.667301 85.666856 \nL 176.087665 91.843665 \nL 177.508028 97.867169 \nL 178.928392 103.677183 \nL 180.348756 109.215654 \nL 181.769119 114.427244 \nL 183.189483 119.259881 \nL 184.609847 123.665278 \nL 186.03021 127.599419 \nL 187.450574 131.022994 \nL 188.870938 133.901796 \nL 190.291301 136.207062 \nL 191.711665 137.915757 \nL 193.132028 139.01081 \nL 194.552392 139.481279 \nL 195.972756 139.322462 \nL 197.393119 138.535947 \nL 198.813483 137.129593 \nL 200.233847 135.117451 \nL 201.65421 132.519625 \nL 203.074574 129.362074 \nL 204.494938 125.676345 \nL 205.915301 121.499265 \nL 207.335665 116.87257 \nL 208.756028 111.84249 \nL 210.176392 106.459282 \nL 211.596756 100.776733 \nL 213.017119 94.851623 \nL 214.437483 88.743153 \nL 215.857847 82.512356 \nL 217.27821 76.221488 \nL 218.698574 69.933407 \nL 220.118938 63.710939 \nL 221.539301 57.616259 \nL 222.959665 51.710263 \nL 224.380028 46.05196 \nL 225.800392 40.697887 \nL 227.220756 35.701539 \nL 228.641119 31.11284 \nL 230.061483 26.977637 \nL 231.481847 23.337249 \nL 232.90221 20.228048 \nL 234.322574 17.681101 \nL 235.742938 15.721856 \nL 237.163301 14.369889 \nL 238.583665 13.638709 \n\" clip-path=\"url(#pad3785e30c)\" style=\"fill: none; stroke-dasharray: 5.55,2.4; stroke-dashoffset: 0; stroke: #bf00bf; stroke-width: 1.5\"/>\n   </g>\n   <g id=\"patch_3\">\n    <path d=\"M 52.160938 145.8 \nL 52.160938 7.2 \n\" style=\"fill: none; stroke: #000000; stroke-width: 0.8; stroke-linejoin: miter; stroke-linecap: square\"/>\n   </g>\n   <g id=\"patch_4\">\n    <path d=\"M 247.460938 145.8 \nL 247.460938 7.2 \n\" style=\"fill: none; stroke: #000000; stroke-width: 0.8; stroke-linejoin: miter; stroke-linecap: square\"/>\n   </g>\n   <g id=\"patch_5\">\n    <path d=\"M 52.160938 145.8 \nL 247.460938 145.8 \n\" style=\"fill: none; stroke: #000000; stroke-width: 0.8; stroke-linejoin: miter; stroke-linecap: square\"/>\n   </g>\n   <g id=\"patch_6\">\n    <path d=\"M 52.160938 7.2 \nL 247.460938 7.2 \n\" style=\"fill: none; stroke: #000000; stroke-width: 0.8; stroke-linejoin: miter; stroke-linecap: square\"/>\n   </g>\n   <g id=\"legend_1\">\n    <g id=\"patch_7\">\n     <path d=\"M 177.665625 92.678125 \nL 240.460938 92.678125 \nQ 242.460938 92.678125 242.460938 90.678125 \nL 242.460938 62.321875 \nQ 242.460938 60.321875 240.460938 60.321875 \nL 177.665625 60.321875 \nQ 175.665625 60.321875 175.665625 62.321875 \nL 175.665625 90.678125 \nQ 175.665625 92.678125 177.665625 92.678125 \nz\n\" style=\"fill: #ffffff; opacity: 0.8; stroke: #cccccc; stroke-linejoin: miter\"/>\n    </g>\n    <g id=\"line2d_23\">\n     <path d=\"M 179.665625 68.420313 \nL 189.665625 68.420313 \nL 199.665625 68.420313 \n\" style=\"fill: none; stroke: #1f77b4; stroke-width: 1.5; stroke-linecap: square\"/>\n    </g>\n    <g id=\"text_13\">\n     <!-- sin(x) -->\n     <g transform=\"translate(207.665625 71.920313)scale(0.1 -0.1)\">\n      <defs>\n       <path id=\"DejaVuSans-73\" d=\"M 2834 3397 \nL 2834 2853 \nQ 2591 2978 2328 3040 \nQ 2066 3103 1784 3103 \nQ 1356 3103 1142 2972 \nQ 928 2841 928 2578 \nQ 928 2378 1081 2264 \nQ 1234 2150 1697 2047 \nL 1894 2003 \nQ 2506 1872 2764 1633 \nQ 3022 1394 3022 966 \nQ 3022 478 2636 193 \nQ 2250 -91 1575 -91 \nQ 1294 -91 989 -36 \nQ 684 19 347 128 \nL 347 722 \nQ 666 556 975 473 \nQ 1284 391 1588 391 \nQ 1994 391 2212 530 \nQ 2431 669 2431 922 \nQ 2431 1156 2273 1281 \nQ 2116 1406 1581 1522 \nL 1381 1569 \nQ 847 1681 609 1914 \nQ 372 2147 372 2553 \nQ 372 3047 722 3315 \nQ 1072 3584 1716 3584 \nQ 2034 3584 2315 3537 \nQ 2597 3491 2834 3397 \nz\n\" transform=\"scale(0.015625)\"/>\n       <path id=\"DejaVuSans-69\" d=\"M 603 3500 \nL 1178 3500 \nL 1178 0 \nL 603 0 \nL 603 3500 \nz\nM 603 4863 \nL 1178 4863 \nL 1178 4134 \nL 603 4134 \nL 603 4863 \nz\n\" transform=\"scale(0.015625)\"/>\n       <path id=\"DejaVuSans-6e\" d=\"M 3513 2113 \nL 3513 0 \nL 2938 0 \nL 2938 2094 \nQ 2938 2591 2744 2837 \nQ 2550 3084 2163 3084 \nQ 1697 3084 1428 2787 \nQ 1159 2491 1159 1978 \nL 1159 0 \nL 581 0 \nL 581 3500 \nL 1159 3500 \nL 1159 2956 \nQ 1366 3272 1645 3428 \nQ 1925 3584 2291 3584 \nQ 2894 3584 3203 3211 \nQ 3513 2838 3513 2113 \nz\n\" transform=\"scale(0.015625)\"/>\n      </defs>\n      <use xlink:href=\"#DejaVuSans-73\"/>\n      <use xlink:href=\"#DejaVuSans-69\" x=\"52.099609\"/>\n      <use xlink:href=\"#DejaVuSans-6e\" x=\"79.882812\"/>\n      <use xlink:href=\"#DejaVuSans-28\" x=\"143.261719\"/>\n      <use xlink:href=\"#DejaVuSans-78\" x=\"182.275391\"/>\n      <use xlink:href=\"#DejaVuSans-29\" x=\"241.455078\"/>\n     </g>\n    </g>\n    <g id=\"line2d_24\">\n     <path d=\"M 179.665625 83.098438 \nL 189.665625 83.098438 \nL 199.665625 83.098438 \n\" style=\"fill: none; stroke-dasharray: 5.55,2.4; stroke-dashoffset: 0; stroke: #bf00bf; stroke-width: 1.5\"/>\n    </g>\n    <g id=\"text_14\">\n     <!-- sin'(x) -->\n     <g transform=\"translate(207.665625 86.598438)scale(0.1 -0.1)\">\n      <defs>\n       <path id=\"DejaVuSans-27\" d=\"M 1147 4666 \nL 1147 2931 \nL 616 2931 \nL 616 4666 \nL 1147 4666 \nz\n\" transform=\"scale(0.015625)\"/>\n      </defs>\n      <use xlink:href=\"#DejaVuSans-73\"/>\n      <use xlink:href=\"#DejaVuSans-69\" x=\"52.099609\"/>\n      <use xlink:href=\"#DejaVuSans-6e\" x=\"79.882812\"/>\n      <use xlink:href=\"#DejaVuSans-27\" x=\"143.261719\"/>\n      <use xlink:href=\"#DejaVuSans-28\" x=\"170.751953\"/>\n      <use xlink:href=\"#DejaVuSans-78\" x=\"209.765625\"/>\n      <use xlink:href=\"#DejaVuSans-29\" x=\"268.945312\"/>\n     </g>\n    </g>\n   </g>\n  </g>\n </g>\n <defs>\n  <clipPath id=\"pad3785e30c\">\n   <rect x=\"52.160938\" y=\"7.2\" width=\"195.3\" height=\"138.6\"/>\n  </clipPath>\n </defs>\n</svg>\n"
     },
     "metadata": {},
     "output_type": "display_data"
    }
   ],
   "source": [
    "import math\n",
    "import numpy as np\n",
    "from d2l import torch as d2l\n",
    "\n",
    "\n",
    "def f(x):\n",
    "    return torch.sin(x)\n",
    "\n",
    "\n",
    "x = np.arange(-torch.pi * 2, torch.pi * 2, 0.1)\n",
    "x = torch.tensor(x, requires_grad=True)\n",
    "x_d = x.detach()\n",
    "y = f(x)\n",
    "y_d = f(x_d)\n",
    "y.sum().backward()\n",
    "\n",
    "d2l.plot(x_d, [y_d, x.grad], 'x', 'f(x)', legend=['sin(x)', 'sin\\'(x)'])"
   ],
   "metadata": {
    "collapsed": false,
    "ExecuteTime": {
     "end_time": "2023-07-25T19:35:56.662015300Z",
     "start_time": "2023-07-25T19:35:55.574917Z"
    }
   }
  }
 ],
 "metadata": {
  "kernelspec": {
   "display_name": "Python 3",
   "language": "python",
   "name": "python3"
  },
  "language_info": {
   "codemirror_mode": {
    "name": "ipython",
    "version": 2
   },
   "file_extension": ".py",
   "mimetype": "text/x-python",
   "name": "python",
   "nbconvert_exporter": "python",
   "pygments_lexer": "ipython2",
   "version": "2.7.6"
  }
 },
 "nbformat": 4,
 "nbformat_minor": 0
}
