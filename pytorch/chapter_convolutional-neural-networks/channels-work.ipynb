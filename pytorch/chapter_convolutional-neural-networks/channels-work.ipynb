{
 "cells": [
  {
   "cell_type": "code",
   "execution_count": 4,
   "id": "initial_id",
   "metadata": {
    "collapsed": true,
    "ExecuteTime": {
     "end_time": "2023-12-02T13:21:39.940954500Z",
     "start_time": "2023-12-02T13:21:39.927008500Z"
    }
   },
   "outputs": [],
   "source": [
    "import numpy as np\n",
    "import torch\n",
    "from d2l import torch as d2l"
   ]
  },
  {
   "cell_type": "code",
   "execution_count": 5,
   "outputs": [],
   "source": [
    "def corr2d_multi_in_out(X, K):\n",
    "    return torch.stack([d2l.corr2d(X, k) for k in K], dim=0)"
   ],
   "metadata": {
    "collapsed": false,
    "ExecuteTime": {
     "end_time": "2023-12-02T13:21:39.958906100Z",
     "start_time": "2023-12-02T13:21:39.942904200Z"
    }
   },
   "id": "5cfea3122aa59010"
  },
  {
   "cell_type": "code",
   "execution_count": 6,
   "outputs": [
    {
     "ename": "NameError",
     "evalue": "name 'K' is not defined",
     "output_type": "error",
     "traceback": [
      "\u001B[1;31m---------------------------------------------------------------------------\u001B[0m",
      "\u001B[1;31mNameError\u001B[0m                                 Traceback (most recent call last)",
      "Cell \u001B[1;32mIn[6], line 1\u001B[0m\n\u001B[1;32m----> 1\u001B[0m K \u001B[38;5;241m=\u001B[39m torch\u001B[38;5;241m.\u001B[39mstack((\u001B[43mK\u001B[49m, K \u001B[38;5;241m+\u001B[39m \u001B[38;5;241m1\u001B[39m, K \u001B[38;5;241m+\u001B[39m \u001B[38;5;241m2\u001B[39m), dim\u001B[38;5;241m=\u001B[39m\u001B[38;5;241m0\u001B[39m)\n",
      "\u001B[1;31mNameError\u001B[0m: name 'K' is not defined"
     ]
    }
   ],
   "source": [
    "K = torch.zeros((3, 3, 2))  \n",
    "\n",
    "K = torch.stack((K, K + 1, K + 2), dim=0)"
   ],
   "metadata": {
    "collapsed": false,
    "ExecuteTime": {
     "end_time": "2023-12-02T13:21:40.317732900Z",
     "start_time": "2023-12-02T13:21:39.957905600Z"
    }
   },
   "id": "7ecb8d7dfc226cfa"
  }
 ],
 "metadata": {
  "kernelspec": {
   "display_name": "Python 3",
   "language": "python",
   "name": "python3"
  },
  "language_info": {
   "codemirror_mode": {
    "name": "ipython",
    "version": 2
   },
   "file_extension": ".py",
   "mimetype": "text/x-python",
   "name": "python",
   "nbconvert_exporter": "python",
   "pygments_lexer": "ipython2",
   "version": "2.7.6"
  }
 },
 "nbformat": 4,
 "nbformat_minor": 5
}
